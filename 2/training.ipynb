{
 "cells": [
  {
   "cell_type": "code",
   "execution_count": 11,
   "metadata": {},
   "outputs": [],
   "source": [
    "import pandas as pd\n",
    "import matplotlib.pyplot as plt"
   ]
  },
  {
   "cell_type": "code",
   "execution_count": 7,
   "metadata": {},
   "outputs": [
    {
     "name": "stdout",
     "output_type": "stream",
     "text": [
      "0    Train\n",
      "1    Plane\n",
      "2      Car\n",
      "dtype: object\n"
     ]
    }
   ],
   "source": [
    "transportation = ['Train', 'Plane', 'Car']\n",
    "transportation_series = pd.Series(transportation)\n",
    "print(transportation_series)"
   ]
  },
  {
   "cell_type": "code",
   "execution_count": 8,
   "metadata": {},
   "outputs": [],
   "source": [
    "x = [[\"Ben\",24,\"United Kingdom\"],[\"Jacob\",32,\"United States of America\"],[\"Alice\",19, \"Germany\"]]"
   ]
  },
  {
   "cell_type": "code",
   "execution_count": 10,
   "metadata": {},
   "outputs": [
    {
     "name": "stdout",
     "output_type": "stream",
     "text": [
      "    Name  Age      Country of Residence\n",
      "0    Ben   24            United Kingdom\n",
      "1  Jacob   32  United States of America\n",
      "2  Alice   19                   Germany\n"
     ]
    }
   ],
   "source": [
    "df_x = pd.DataFrame(x,columns=[\"Name\",\"Age\",\"Country of Residence\"])\n",
    "print(df_x)"
   ]
  }
 ],
 "metadata": {
  "kernelspec": {
   "display_name": "Python 3",
   "language": "python",
   "name": "python3"
  },
  "language_info": {
   "codemirror_mode": {
    "name": "ipython",
    "version": 3
   },
   "file_extension": ".py",
   "mimetype": "text/x-python",
   "name": "python",
   "nbconvert_exporter": "python",
   "pygments_lexer": "ipython3",
   "version": "3.11.2"
  }
 },
 "nbformat": 4,
 "nbformat_minor": 2
}
